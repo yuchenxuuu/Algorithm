{
  "nbformat": 4,
  "nbformat_minor": 0,
  "metadata": {
    "colab": {
      "name": "node2vec.ipynb",
      "provenance": [],
      "authorship_tag": "ABX9TyMFqLo1oRfC1SXmG8wH+9aY",
      "include_colab_link": true
    },
    "kernelspec": {
      "name": "python3",
      "display_name": "Python 3"
    }
  },
  "cells": [
    {
      "cell_type": "markdown",
      "metadata": {
        "id": "view-in-github",
        "colab_type": "text"
      },
      "source": [
        "<a href=\"https://colab.research.google.com/github/yuchenxuuu/Algorithm/blob/master/node2vec.ipynb\" target=\"_parent\"><img src=\"https://colab.research.google.com/assets/colab-badge.svg\" alt=\"Open In Colab\"/></a>"
      ]
    },
    {
      "cell_type": "code",
      "metadata": {
        "id": "3nXxBnWNj4S5",
        "outputId": "15bf7ece-eb31-4c73-9414-e7d89b28d273",
        "colab": {
          "base_uri": "https://localhost:8080/"
        }
      },
      "source": [
        "import sys\n",
        "if 'google.colab' in sys.modules:\n",
        "  %pip install -q stellargraph[demos]==1.2.1"
      ],
      "execution_count": null,
      "outputs": [
        {
          "output_type": "stream",
          "text": [
            "\u001b[K     |████████████████████████████████| 440kB 2.8MB/s \n",
            "\u001b[K     |████████████████████████████████| 235kB 12.0MB/s \n",
            "\u001b[K     |████████████████████████████████| 51kB 6.8MB/s \n",
            "\u001b[?25h  Building wheel for mplleaflet (setup.py) ... \u001b[?25l\u001b[?25hdone\n"
          ],
          "name": "stdout"
        }
      ]
    },
    {
      "cell_type": "code",
      "metadata": {
        "id": "4sAhr3zwkFq0"
      },
      "source": [
        "import os\n",
        "import networkx as nx\n",
        "import numpy as np\n",
        "from stellargraph import StellarGraph, datasets\n",
        "from stellargraph.data import EdgeSplitter\n",
        "import multiprocessing\n",
        "from sklearn.model_selection import train_test_split\n",
        "\n",
        "%matplotlib inline"
      ],
      "execution_count": null,
      "outputs": []
    },
    {
      "cell_type": "code",
      "metadata": {
        "id": "NfOMtfUmkaEn"
      },
      "source": [
        "dataset = datasets.Cora()\n",
        "graph, _ = dataset.load(largest_connected_component_only=True, str_node_ids=True)"
      ],
      "execution_count": null,
      "outputs": []
    },
    {
      "cell_type": "code",
      "metadata": {
        "id": "bVhs6Gompc2J",
        "outputId": "2d529bb0-7493-4ac5-dbe6-66722ec6d9a2",
        "colab": {
          "base_uri": "https://localhost:8080/"
        }
      },
      "source": [
        "edge_splitter_test = EdgeSplitter(graph)\n",
        "graph_test, examples_test, labels_test = edge_splitter_test.train_test_split(p=0.05)\n",
        "edge_splitter_train = EdgeSplitter(graph_test,graph)\n",
        "graph_train, examples, labels = edge_splitter_train.train_test_split(p=0.15)\n",
        "# print(graph_test.info())\n",
        "# print(graph_train.info())\n",
        "(\n",
        "    examples_train,\n",
        "    examples_model_selection,\n",
        "    labels_train,\n",
        "    labels_model_selection,\n",
        ") = train_test_split(examples, labels, train_size=0.75, test_size=0.25)\n"
      ],
      "execution_count": null,
      "outputs": [
        {
          "output_type": "stream",
          "text": [
            "** Sampled 260 positive and 260 negative edges. **\n",
            "** Sampled 742 positive and 742 negative edges. **\n"
          ],
          "name": "stdout"
        }
      ]
    },
    {
      "cell_type": "markdown",
      "metadata": {
        "id": "_buBZJIW7oMN"
      },
      "source": [
        "## Split the dataset to training data and testing data"
      ]
    },
    {
      "cell_type": "code",
      "metadata": {
        "id": "-H1Nc02p7k4Y"
      },
      "source": [
        "from stellargraph.data import BiasedRandomWalk\n",
        "from gensim.models import Word2Vec"
      ],
      "execution_count": null,
      "outputs": []
    },
    {
      "cell_type": "code",
      "metadata": {
        "id": "t7ptC_pc7mkc"
      },
      "source": [
        "def node2vec(inputgraph,p,q,dimensions,num_walks,walk_length,window_size):\n",
        "  workers = multiprocessing.cpu_count()\n",
        "  randw = BiasedRandomWalk(inputgraph)\n",
        "  walks = randw.run(graph.nodes(), n=num_walks, length=walk_length, p=p, q=q)\n",
        "  print(len(walks))\n",
        "  word2vec_model = Word2Vec(walks,size=dimensions,window=window_size, min_count=0,sg=1,workers=workers,iter=1)\n",
        "  def get_embedding(u):\n",
        "        return word2vec_model.wv[u]\n",
        "  return get_embedding\n"
      ],
      "execution_count": 63,
      "outputs": []
    },
    {
      "cell_type": "markdown",
      "metadata": {
        "id": "3lM3tc4elThy"
      },
      "source": [
        "## Determin the parameters and run the node2vec model"
      ]
    },
    {
      "cell_type": "code",
      "metadata": {
        "id": "zjiyLi7xOXdg",
        "outputId": "dc6c897d-bca1-4941-f952-b516964b356b",
        "colab": {
          "base_uri": "https://localhost:8080/"
        }
      },
      "source": [
        "p=1.0\n",
        "q=1.0\n",
        "dimensions = 120\n",
        "num_walks = 10\n",
        "walk_length = 80\n",
        "window_size = 10\n",
        "result = node2vec(graph,p,q,dimensions,num_walks,walk_length,window_size)"
      ],
      "execution_count": 79,
      "outputs": [
        {
          "output_type": "stream",
          "text": [
            "24850\n"
          ],
          "name": "stdout"
        }
      ]
    },
    {
      "cell_type": "markdown",
      "metadata": {
        "id": "ZA6nAZvylLLy"
      },
      "source": [
        "## Result evaluation"
      ]
    },
    {
      "cell_type": "code",
      "metadata": {
        "id": "fiKRpX4XUGYt"
      },
      "source": [
        "import pandas as pd\n",
        "import numpy as np\n",
        "from sklearn.pipeline import Pipeline\n",
        "from sklearn.linear_model import LogisticRegressionCV\n",
        "from sklearn.metrics import roc_auc_score\n",
        "from sklearn.preprocessing import StandardScaler"
      ],
      "execution_count": null,
      "outputs": []
    },
    {
      "cell_type": "code",
      "metadata": {
        "id": "Ouu7XEqpo3B_"
      },
      "source": [
        "def link_examples_to_features(link_examples, transform_node):\n",
        "    features = []\n",
        "    for src, dst in link_examples:\n",
        "      features.append(transform_node(src)*transform_node(dst))\n",
        "    return features\n",
        "\n",
        "def train_linkprediction(link_examples, link_labels, get_embedding):\n",
        "    lr_clf = LogisticRegressionCV(Cs=10, cv=10, scoring=\"roc_auc\", max_iter=100)\n",
        "    pipe = Pipeline(steps=[(\"sc\", StandardScaler()), (\"clf\", lr_clf)])\n",
        "    link_features = link_examples_to_features(link_examples, get_embedding)\n",
        "    pipe.fit(link_features, link_labels)\n",
        "    print(type(pipe))\n",
        "    return pipe\n",
        "\n",
        "def evaluate_model(pipe, link_examples_test, link_labels_test, get_embedding):\n",
        "    link_features_test = link_examples_to_features(\n",
        "        link_examples_test, get_embedding\n",
        "    )\n",
        "    predicted = pipe.predict_proba(link_features_test)\n",
        "    positive_column = list(pipe.classes_).index(1)\n",
        "    score = roc_auc_score(link_labels_test, predicted[:, positive_column])\n",
        "    return score\n",
        "  "
      ],
      "execution_count": 77,
      "outputs": []
    },
    {
      "cell_type": "code",
      "metadata": {
        "id": "NG9aXIDPscgL"
      },
      "source": [
        "def run_link_prediction():\n",
        "    clf = train_linkprediction(examples_train, labels_train, result)\n",
        "    score = evaluate_model(\n",
        "        clf,\n",
        "        examples_model_selection,\n",
        "        labels_model_selection,\n",
        "        result\n",
        "    )\n",
        "    print(score)\n"
      ],
      "execution_count": 81,
      "outputs": []
    },
    {
      "cell_type": "code",
      "metadata": {
        "id": "3mszjgTolKOo",
        "outputId": "5c2a2314-80c7-460c-a2de-d4e56caf89e9",
        "colab": {
          "base_uri": "https://localhost:8080/"
        }
      },
      "source": [
        "results = run_link_prediction()\n",
        "print(results)"
      ],
      "execution_count": 82,
      "outputs": [
        {
          "output_type": "stream",
          "text": [
            "<class 'sklearn.pipeline.Pipeline'>\n",
            "0.9884335948852078\n",
            "None\n"
          ],
          "name": "stdout"
        }
      ]
    }
  ]
}